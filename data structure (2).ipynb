{
 "cells": [
  {
   "cell_type": "raw",
   "id": "3c1ce98e-d938-4a02-aea8-dd5d9fd69400",
   "metadata": {},
   "source": [
    "Theory Q&A\n",
    "\n",
    "1. what are the data structure and why they important ?\n",
    "---> Data structure is define as the how the data is stored , grouped and managed is called data structure . there are various data structure in python they are list , tuple , set , dictionary. \n",
    "these data structure are important because of every data structure has it's own advantage and disadvantage according to the situation we can use it. and these data structure are important to effectively managed and organised data .\n",
    "\n",
    "2.explain the difference between mutable and immutable data types with example ?\n",
    "---> the mutable data types is the data types in which we can changed the data from the data structure . the mutable data types are list , set , dictionary .\n",
    "example  l1=[1,2,3,4]\n",
    "         l1[0]=100\n",
    "         print(l1)\n",
    "\n",
    "  the immutable data types is the data types in which we can't changed the data from data structure . the i mutable data types are string , tuple .\n",
    "example s=\"sumedh\"\n",
    "        s[0]=\"e\"\n",
    "        error are shown \n",
    "3. what are the main difference in lists and tuple in python ?\n",
    "--->the list are mutable data types which means we can edit or modify the data from list and the list are created by [] square brackets.\n",
    "\n",
    "the tuple are immutable data types which means we can't edit or modify the data from the tuple and the tuple are created by () parentheses.\n",
    "\n",
    "4. Describe the how dictionaries stored data?\n",
    "---> the dictionary are mutable . the dictionary are stored a data in key-value manner.the dictionary are created by curly brackets.\n",
    "example d1={\"name\":\"sumedh\",\"age\":12}\n",
    "\n",
    "5. why might you use set instead of list in python ?\n",
    "---> if you need a unique items (no duplicates items required) , you need to use the set operation like union, intersection, difference. if you want to stored a data in a unordered manner.\n",
    "\n",
    "6. what is the string in python and how it is difference from list ?\n",
    "---> A string is a collection of charactor that stored a data. string is a  immutable data types means we can't changed or modify string. string stored a data only in str means not int,float or other data types. on the other hand list is a data structure which stored a data of different data types (int,float, str, boolen) and list are mutable data types.\n",
    "\n",
    "7.how do tuple ensure data integrity in python ?\n",
    "---> the tuple is a immutable data types means once you created a tuple you can't edit or modify the data stored inside a tuple.the data integrity is ensure in tuple beacuse it is immutable .\n",
    "\n",
    "8. what is the hash table and how it is relate to dictionary in python?\n",
    "---> the hash table is a data structure which stored a data in key-value.\n",
    "In the python we use a dict which is the built-in fuction which stored a data in key-value by using the hash table\n",
    "it is implemented.\n",
    "\n",
    "9.can list contains different data types in python ?\n",
    "---> yes , the list can contains a different data types in it. the list contains(int , float, string).\n",
    "\n",
    "10.explains why string is immutable in python ?\n",
    "--->  the string in python are immutable because of keep data integrity . in some cases we don't wants to change the data stored in the strig .so the string keeps the data integrity.\n",
    "\n",
    "11. what is the advantage the dictionary offer over a list for certain tasks?\n",
    "--->the dictionary offers the data stored in the key-value pair .and the dictionary offers a fast data retrieval.\n",
    "on the other hand list can't support key-value data . \n",
    "\n",
    "12.Describe a scenario where tuple would be preferable over a list?\n",
    "---> suppose we want to stored a empolyee id data . so our first need is to keep the data integrity . the tuple is immutable data types so no one can edit  or modify the data that are stored in the tuple.\n",
    "\n",
    "13. How do set handle duplicates value in python ?\n",
    "---> The set data structure are stored a unique data items. the set are discards the duplicates data items. if you add the data items that are already present in the set then set just igonar the arguments, it not shows the error and not add the same data items again.\n",
    "\n",
    "14.How does the \"IN' keyword work  differently for list and dictionary in python ?\n",
    "---> For the list 'in' and 'not in\" are the membership  operator which is used as a search algorithms.\n",
    "\n",
    "15. Can you modify the elements of tuple ? explain why or why not?\n",
    "---> No, you can't modify the element of tuple because of tuple is immutable data types . if you modify the elements of tuple then it shows the error .\n",
    "if you want to modify the elements of tuple then firstly convert the tuple to the list by using the type casting and then modify the list and then by using of type casting convert the list to tuple and the new tuple is created with the modify elements.\n",
    "\n",
    "16.What is the nested dictionary and with the example with the use cases?\n",
    "---> The nested dictionaries is placing dictionary inside another dictionary. the dictionary is used when we want to store a kry-value paires.\n",
    "example \n",
    "d1={\"name\":{\"\"arun\":1211}\n",
    "     \"age\":{\"younger\":20}}\n",
    "print(d1)\n",
    "\n",
    "17.Describe the time complexity accessing the elements in a dictionary?\n",
    "---> the time complexity of retrieving value by it's key name in dictionary. for reterieving data the dictionary use a hash table to find the location in the memoery.\n",
    "\n",
    "18. In what situations list are preferred over a dictionary?\n",
    "---> list are preferred when the order od data items are imp and we want to use appeand , pop function frequently.\n",
    "\n",
    "19. Why are the dictionaries is considered unordered and how it affect the data retrieval?\n",
    "---> Dictionary are considered as unordered because of on bases of insertion of data don't gaureantee order. because of onordered they affect the data retrieval because of no indexing ,and unordered of data.\n",
    "\n",
    "20.Explain the difference of list and dictionaries in term of data retrieval ?\n",
    "---> the difference between the list and the dictionary are list follows  order and dictionaries are unordered therfore in dictionaries there are no indexing and in list there are indexing therfore list data retrieval rate is higher than the dictionary."
   ]
  },
  {
   "cell_type": "code",
   "execution_count": 1,
   "id": "62f13b03-8908-4f78-ab5d-19bf2e49f30a",
   "metadata": {},
   "outputs": [
    {
     "data": {
      "text/plain": [
       "'sumedh'"
      ]
     },
     "execution_count": 1,
     "metadata": {},
     "output_type": "execute_result"
    }
   ],
   "source": [
    "#PRACTIONAL QUESTIONS\n",
    "# 1. write a code create a string with your name and print it ?\n",
    "name=\"sumedh\"\n",
    "name\n"
   ]
  },
  {
   "cell_type": "code",
   "execution_count": 2,
   "id": "bdbea530-1ccb-4454-80c2-1f50f12544c5",
   "metadata": {},
   "outputs": [
    {
     "name": "stdout",
     "output_type": "stream",
     "text": [
      "11\n"
     ]
    }
   ],
   "source": [
    "# 2. write a code to find the length of string \"Hello world\"\n",
    "s=\"Hello world\"\n",
    "print(len(s))"
   ]
  },
  {
   "cell_type": "code",
   "execution_count": 5,
   "id": "5190160f-0aad-4835-8fcb-410a2ad18616",
   "metadata": {},
   "outputs": [
    {
     "name": "stdout",
     "output_type": "stream",
     "text": [
      "pyt\n"
     ]
    }
   ],
   "source": [
    "# 3. write a code for slicing first 3 charactor from \"python programming\"\n",
    "s=\"python programming\"\n",
    "print(s[0:3])"
   ]
  },
  {
   "cell_type": "code",
   "execution_count": 6,
   "id": "a85a5e9d-af75-488e-a584-b56b3d1c6d4a",
   "metadata": {},
   "outputs": [
    {
     "name": "stdout",
     "output_type": "stream",
     "text": [
      "HELLO\n"
     ]
    }
   ],
   "source": [
    "# 4. write a code to convert  the string \"hello\" to uppercase?\n",
    "s= \"hello\"\n",
    "print(s.upper())"
   ]
  },
  {
   "cell_type": "code",
   "execution_count": 9,
   "id": "9d3a613a-f57e-485d-a19e-51adefbc6369",
   "metadata": {},
   "outputs": [
    {
     "data": {
      "text/plain": [
       "'i like orange'"
      ]
     },
     "execution_count": 9,
     "metadata": {},
     "output_type": "execute_result"
    }
   ],
   "source": [
    "#5. write a code to replace the word \"apple\" to \"orange\" in a string \"i like apple\"\n",
    "s=\"i like apple\"\n",
    "s1=s.replace(\"apple\",\"orange\")\n",
    "s1"
   ]
  },
  {
   "cell_type": "code",
   "execution_count": 23,
   "id": "8a8d18bf-296f-4a79-8a32-68eaa88e690e",
   "metadata": {},
   "outputs": [
    {
     "data": {
      "text/plain": [
       "[1, 2, 3, 4, 5]"
      ]
     },
     "execution_count": 23,
     "metadata": {},
     "output_type": "execute_result"
    }
   ],
   "source": [
    "# 6. write a code to create a list to print a number from 1 to 5 and print it?\n",
    "l1=list(x for x in range(1,6))\n",
    "l1\n",
    "    "
   ]
  },
  {
   "cell_type": "code",
   "execution_count": 25,
   "id": "82ca0fcb-ab2a-4b6b-902a-b0fb716c0e0c",
   "metadata": {},
   "outputs": [
    {
     "data": {
      "text/plain": [
       "[1, 2, 3, 4, 10]"
      ]
     },
     "execution_count": 25,
     "metadata": {},
     "output_type": "execute_result"
    }
   ],
   "source": [
    "# 7. write a code to append a number 10 to the list [1,2,3,4]\n",
    "l1=[1,2,3,4]\n",
    "l1.append(10)\n",
    "l1\n"
   ]
  },
  {
   "cell_type": "code",
   "execution_count": 26,
   "id": "b88cc82b-0afa-49dc-8b1c-a9cc39514e64",
   "metadata": {},
   "outputs": [
    {
     "data": {
      "text/plain": [
       "[1, 2, 4, 5]"
      ]
     },
     "execution_count": 26,
     "metadata": {},
     "output_type": "execute_result"
    }
   ],
   "source": [
    "# 8.write a code to remove number 3 from list [1,2,3,4,5]\n",
    "l1=[1,2,3,4,5]\n",
    "l1.remove(3)\n",
    "l1"
   ]
  },
  {
   "cell_type": "code",
   "execution_count": 27,
   "id": "c365cedc-cbee-4541-b9fa-333b4fee7049",
   "metadata": {},
   "outputs": [
    {
     "data": {
      "text/plain": [
       "['a', 'b', 'd']"
      ]
     },
     "execution_count": 27,
     "metadata": {},
     "output_type": "execute_result"
    }
   ],
   "source": [
    "# 9.write a code to access a second element from a list [\"a\",\"b\",\"c\",\"d\"]\n",
    "l1= [\"a\",\"b\",\"c\",\"d\"]\n",
    "l1.pop(2)\n",
    "l1"
   ]
  },
  {
   "cell_type": "code",
   "execution_count": 30,
   "id": "96ecba29-d870-4531-9e17-3cd1b4743b7e",
   "metadata": {},
   "outputs": [
    {
     "name": "stdout",
     "output_type": "stream",
     "text": [
      "[50, 40, 30, 20, 10]\n"
     ]
    }
   ],
   "source": [
    "# 10. write a code to reverse a list [10,20,30,40,50]\n",
    "l1= [10,20,30,40,50]\n",
    "print(l1[ : :-1])"
   ]
  },
  {
   "cell_type": "code",
   "execution_count": 31,
   "id": "75cbad82-44ff-45a0-b0a7-d5363ebaa8e4",
   "metadata": {},
   "outputs": [
    {
     "data": {
      "text/plain": [
       "(100, 200, 300)"
      ]
     },
     "execution_count": 31,
     "metadata": {},
     "output_type": "execute_result"
    }
   ],
   "source": [
    "#11. Write a code to create a tuple with the elements 100, 200, 300 and print it.\n",
    "t1=(100,200,300)\n",
    "t1\n"
   ]
  },
  {
   "cell_type": "code",
   "execution_count": 32,
   "id": "a7d57673-b478-4589-8e21-c0c094a86cfd",
   "metadata": {},
   "outputs": [
    {
     "name": "stdout",
     "output_type": "stream",
     "text": [
      "green\n"
     ]
    }
   ],
   "source": [
    "#12. Write a code to access the second-to-last element of the tuple ('red', 'green', 'blue', 'yellow').\n",
    "t1= ('red', 'green', 'blue', 'yellow')\n",
    "print(t1[1])"
   ]
  },
  {
   "cell_type": "code",
   "execution_count": 35,
   "id": "4bc78153-1fe3-4b11-8e56-ce3f13007965",
   "metadata": {},
   "outputs": [
    {
     "name": "stdout",
     "output_type": "stream",
     "text": [
      "5\n"
     ]
    }
   ],
   "source": [
    "#13. Write a code to find the minimum number in the tuple (10, 20, 5, 15).\n",
    "t1=(10, 20, 5, 15)\n",
    "print(min(t1))"
   ]
  },
  {
   "cell_type": "code",
   "execution_count": 36,
   "id": "12d8d632-3308-47d3-a46d-51717cd2dfa5",
   "metadata": {},
   "outputs": [
    {
     "name": "stdout",
     "output_type": "stream",
     "text": [
      "1\n"
     ]
    }
   ],
   "source": [
    "# 14.Write a code to find the index of the element \"cat\" in the tuple ('dog', 'cat', 'rabbit').\n",
    "t1= ('dog', 'cat', 'rabbit')\n",
    "print(t1.index('cat'))"
   ]
  },
  {
   "cell_type": "code",
   "execution_count": 37,
   "id": "74118d5b-029d-4147-aaf8-c3ca5424417e",
   "metadata": {},
   "outputs": [
    {
     "name": "stdout",
     "output_type": "stream",
     "text": [
      "True\n"
     ]
    }
   ],
   "source": [
    "#15. Write a code to create a tuple containing three different fruits and check if \"kiwi\" is in it.\n",
    "t1=(\"apple\",\"kiwi\",\"banana\")\n",
    "print(\"kiwi\" in t1)"
   ]
  },
  {
   "cell_type": "code",
   "execution_count": 38,
   "id": "e4b29797-e02a-4836-8b42-adf1ac33951a",
   "metadata": {},
   "outputs": [
    {
     "data": {
      "text/plain": [
       "{'a', 'b', 'c'}"
      ]
     },
     "execution_count": 38,
     "metadata": {},
     "output_type": "execute_result"
    }
   ],
   "source": [
    "#16. Write a code to create a set with the elements 'a', 'b', 'c' and print it.\n",
    "s1={'a', 'b', 'c'}\n",
    "s1"
   ]
  },
  {
   "cell_type": "code",
   "execution_count": 39,
   "id": "9967a3fa-c55c-4dbc-a1f4-2430d3b0f829",
   "metadata": {},
   "outputs": [
    {
     "name": "stdout",
     "output_type": "stream",
     "text": [
      "None\n"
     ]
    }
   ],
   "source": [
    "#17. Write a code to clear all elements from the set {1, 2, 3, 4, 5}.\n",
    "s1={1, 2, 3, 4, 5}\n",
    "print(s1.clear())"
   ]
  },
  {
   "cell_type": "code",
   "execution_count": 45,
   "id": "ad275c3d-674e-44ea-ac56-16dba76eea8d",
   "metadata": {},
   "outputs": [
    {
     "data": {
      "text/plain": [
       "{1, 2, 3}"
      ]
     },
     "execution_count": 45,
     "metadata": {},
     "output_type": "execute_result"
    }
   ],
   "source": [
    "#18. Write a code to remove the element 4 from the set {1, 2, 3, 4}.\n",
    "s1={1, 2, 3, 4}\n",
    "s1.remove(4)\n",
    "s1\n",
    "\n"
   ]
  },
  {
   "cell_type": "code",
   "execution_count": 46,
   "id": "1a89183a-5f1c-45b2-af04-610d7ec1892d",
   "metadata": {},
   "outputs": [
    {
     "name": "stdout",
     "output_type": "stream",
     "text": [
      "{1, 2, 3, 4, 5}\n"
     ]
    }
   ],
   "source": [
    "#19. Write a code to find the union of two sets {1, 2, 3} and {3, 4, 5}.\n",
    "s1={1, 2, 3}\n",
    "s2={3, 4, 5}\n",
    "print(s1|s2)"
   ]
  },
  {
   "cell_type": "code",
   "execution_count": 47,
   "id": "1c34555e-3940-495a-ba2a-233f2635f888",
   "metadata": {},
   "outputs": [
    {
     "name": "stdout",
     "output_type": "stream",
     "text": [
      "{2, 3}\n"
     ]
    }
   ],
   "source": [
    "# 20. Write a code to find the intersection of two sets {1, 2, 3} and {2, 3, 4}.\n",
    "s1={1, 2, 3}\n",
    "s2={2, 3, 4}\n",
    "print(s1 & s2)"
   ]
  },
  {
   "cell_type": "code",
   "execution_count": 48,
   "id": "34198a3b-205c-4515-871f-51b9b75342a3",
   "metadata": {},
   "outputs": [
    {
     "data": {
      "text/plain": [
       "{'name': 'sumedh', 'age': 24, 'city': 'pune'}"
      ]
     },
     "execution_count": 48,
     "metadata": {},
     "output_type": "execute_result"
    }
   ],
   "source": [
    "#21. Write a code to create a dictionary with the keys \"name\", \"age\", and \"city\", and print it.\n",
    "d1={\"name\":\"sumedh\",\"age\":24,\"city\":\"pune\"}\n",
    "d1"
   ]
  },
  {
   "cell_type": "code",
   "execution_count": 50,
   "id": "c450316b-ed53-4783-ac86-a768eeeade12",
   "metadata": {},
   "outputs": [
    {
     "data": {
      "text/plain": [
       "{'name': 'John', 'age': 25, 'country': 'USA'}"
      ]
     },
     "execution_count": 50,
     "metadata": {},
     "output_type": "execute_result"
    }
   ],
   "source": [
    "#22. Write a code to add a new key-value pair \"country\": \"USA\" to the dictionary {'name': 'John', 'age': 25}.\n",
    "d1={'name': 'John', 'age': 25}\n",
    "d1[\"country\"]=\"USA\"\n",
    "d1"
   ]
  },
  {
   "cell_type": "code",
   "execution_count": 51,
   "id": "d3a223f7-4bcb-40ff-a8ff-6e0345546171",
   "metadata": {},
   "outputs": [
    {
     "name": "stdout",
     "output_type": "stream",
     "text": [
      "Alice\n"
     ]
    }
   ],
   "source": [
    "#23. Write a code to access the value associated with the key \"name\" in the dictionary {'name': 'Alice', 'age': 30}.\n",
    "d1={'name': 'Alice', 'age': 30}\n",
    "print(d1[\"name\"])"
   ]
  },
  {
   "cell_type": "code",
   "execution_count": 53,
   "id": "ffe1ab48-7a33-48d9-9da0-ac64e2409681",
   "metadata": {},
   "outputs": [
    {
     "data": {
      "text/plain": [
       "{'name': 'Bob', 'city': 'New York'}"
      ]
     },
     "execution_count": 53,
     "metadata": {},
     "output_type": "execute_result"
    }
   ],
   "source": [
    "# 24. Write a code to remove the key \"age\" from the dictionary {'name': 'Bob', 'age': 22, 'city': 'New York'}.\n",
    "d1= {'name': 'Bob', 'age': 22, 'city': 'New York'}\n",
    "del d1[\"age\"]\n",
    "d1"
   ]
  },
  {
   "cell_type": "code",
   "execution_count": 54,
   "id": "1fb5d2ec-c9e7-4a29-9ebd-cb6a6007918d",
   "metadata": {},
   "outputs": [
    {
     "name": "stdout",
     "output_type": "stream",
     "text": [
      "True\n"
     ]
    }
   ],
   "source": [
    "#25. Write a code to check if the key \"city\" exists in the dictionary {'name': 'Alice', 'city': 'Paris'}.\n",
    "d1={'name': 'Alice', 'city': 'Paris'}\n",
    "print(\"city\" in d1)"
   ]
  },
  {
   "cell_type": "code",
   "execution_count": 57,
   "id": "83502182-f1ab-4728-bc32-70d0dc3ee5a8",
   "metadata": {},
   "outputs": [
    {
     "name": "stdout",
     "output_type": "stream",
     "text": [
      "[1, 2, 3, 4]\n",
      "(1, 2, 3, 4)\n"
     ]
    },
    {
     "data": {
      "text/plain": [
       "{'name': 'Alice', 'city': 'Paris'}"
      ]
     },
     "execution_count": 57,
     "metadata": {},
     "output_type": "execute_result"
    }
   ],
   "source": [
    "# 26. Write a code to create a list, a tuple, and a dictionary, and print them all.\n",
    "l1=[1,2,3,4]\n",
    "t1=(1,2,3,4)\n",
    "d1={'name': 'Alice', 'city': 'Paris'}\n",
    "print(l1)\n",
    "print(t1)\n",
    "d1"
   ]
  },
  {
   "cell_type": "code",
   "execution_count": 74,
   "id": "afc135e6-c083-47e0-b062-01499abec6cd",
   "metadata": {},
   "outputs": [
    {
     "name": "stdout",
     "output_type": "stream",
     "text": [
      "[52, 66, 41, 67, 27]\n",
      "Sorted list (ascending): [27, 41, 52, 66, 67]\n"
     ]
    }
   ],
   "source": [
    "#27. Write a code to create a list of 5 random numbers between 1 and 100, sort it in ascending order, and print the\n",
    "#result.(replaced)\n",
    "import random\n",
    "\n",
    "l1=[]\n",
    "for x in range(5):\n",
    "    l1.append(random.randint(1, 100))\n",
    "\n",
    "print(l1)\n",
    "l1.sort()\n",
    "print(\"Sorted list (ascending):\", l1)"
   ]
  },
  {
   "cell_type": "code",
   "execution_count": 78,
   "id": "dd2d0029-d36d-4b15-bfdb-b40bc83737e3",
   "metadata": {},
   "outputs": [
    {
     "name": "stdout",
     "output_type": "stream",
     "text": [
      "m\n"
     ]
    }
   ],
   "source": [
    "#28. Write a code to create a list with strings and print the element at the third index.\n",
    "s=\"sumedh is best\"\n",
    "l1=list(s)\n",
    "print(l1[2])\n"
   ]
  },
  {
   "cell_type": "code",
   "execution_count": 86,
   "id": "f4beb9aa-8b2e-4518-8d13-2ff311699050",
   "metadata": {},
   "outputs": [
    {
     "data": {
      "text/plain": [
       "{'name': 'sumedh', 'age': 24, 'city': 'pune', 'height': '145 cm '}"
      ]
     },
     "execution_count": 86,
     "metadata": {},
     "output_type": "execute_result"
    }
   ],
   "source": [
    "# 29. Write a code to combine two dictionaries into one and print the result.\n",
    "d1={\"name\":\"sumedh\",\"age\":24,\"city\":\"pune\"}\n",
    "d2={\"height\":\"145 cm \"}\n",
    "d1.update(d2)\n",
    "d1\n"
   ]
  },
  {
   "cell_type": "code",
   "execution_count": 88,
   "id": "92d8866f-2b32-4d19-a32e-7f01d5f843ce",
   "metadata": {},
   "outputs": [
    {
     "data": {
      "text/plain": [
       "{'digraskar', 'pune', 'sumedh'}"
      ]
     },
     "execution_count": 88,
     "metadata": {},
     "output_type": "execute_result"
    }
   ],
   "source": [
    "# 30. Write a code to convert a list of strings into a set.\n",
    "l1=[\"sumedh\",\"pune\",\"digraskar\"]\n",
    "s1=set(l1)\n",
    "s1"
   ]
  }
 ],
 "metadata": {
  "kernelspec": {
   "display_name": "Python 3 (ipykernel)",
   "language": "python",
   "name": "python3"
  },
  "language_info": {
   "codemirror_mode": {
    "name": "ipython",
    "version": 3
   },
   "file_extension": ".py",
   "mimetype": "text/x-python",
   "name": "python",
   "nbconvert_exporter": "python",
   "pygments_lexer": "ipython3",
   "version": "3.13.1"
  }
 },
 "nbformat": 4,
 "nbformat_minor": 5
}
